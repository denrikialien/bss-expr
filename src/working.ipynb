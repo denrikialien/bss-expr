{
 "cells": [
  {
   "cell_type": "code",
   "execution_count": 210,
   "metadata": {},
   "outputs": [],
   "source": [
    "import os\n",
    "import shutil\n",
    "import json\n",
    "import pandas as pd\n",
    "import subprocess\n",
    "import time\n",
    "import datetime\n",
    "import itertools"
   ]
  },
  {
   "cell_type": "code",
   "execution_count": 167,
   "metadata": {},
   "outputs": [],
   "source": [
    "protocol_file = './cfg.json'\n",
    "BSS_CMD = '../border_security_system/target/debug/bss'"
   ]
  },
  {
   "cell_type": "code",
   "execution_count": 183,
   "metadata": {},
   "outputs": [],
   "source": [
    "def make_problem_recipe(problem, path):\n",
    "  assert 'field size' in problem\n",
    "  assert 'num mobiles' in problem\n",
    "  assert 'num statics' in problem\n",
    "\n",
    "  fw = problem['field size'][0]\n",
    "  fh = problem['field size'][1]\n",
    "  nm = problem['num mobiles']\n",
    "  ns = problem['num statics']\n",
    "\n",
    "  obs_var = []\n",
    "  if 'obstacles' in problem:\n",
    "    with open(problem['obstacles']) as f:\n",
    "      obs_var = json.load(f)\n",
    "\n",
    "  recipe = json.dumps({\n",
    "    \"field_origin\": [0.0, 0.0],\n",
    "    \"field_size\": [fw, fh],\n",
    "    \"west_base_pos\": [0.0, fh / 2],\n",
    "    \"east_base_pos\": [fw, fh / 2],\n",
    "    \"num_mobiles\": nm,\n",
    "    \"num_statics\": ns,\n",
    "    \"num_obstacles\": 0,\n",
    "    \"obstacle_variants\": obs_var,\n",
    "  })\n",
    "\n",
    "  with open(path, mode='w') as f:\n",
    "    f.write(recipe)"
   ]
  },
  {
   "cell_type": "code",
   "execution_count": 169,
   "metadata": {},
   "outputs": [],
   "source": [
    "def parse_arg(cfg):\n",
    "  return [{ 'key': cfg['key'], 'value': value } for value in cfg['values']]"
   ]
  },
  {
   "cell_type": "code",
   "execution_count": 170,
   "metadata": {},
   "outputs": [],
   "source": [
    "def parse_args(cfg):\n",
    "  arg_names = [ arg for arg in cfg ]\n",
    "  expanded = [ parse_arg(cfg[arg]) for arg in cfg]\n",
    "  traces = {}\n",
    "  for arg_list in itertools.product(*expanded):\n",
    "    trace = {}\n",
    "    args = []\n",
    "    for name, kv in zip(arg_names, arg_list):\n",
    "      trace[name] = kv['value']\n",
    "      args.append('{} {}'.format(kv['key'], kv['value']))\n",
    "    args = ' '.join(args)\n",
    "    traces[args] = trace\n",
    "  return traces \n"
   ]
  },
  {
   "cell_type": "code",
   "execution_count": 171,
   "metadata": {},
   "outputs": [],
   "source": [
    "def parse_solver(cfg):\n",
    "  return {\n",
    "    'cmd': cfg['cmd'],\n",
    "    'args': parse_args(cfg['args']),\n",
    "  }"
   ]
  },
  {
   "cell_type": "code",
   "execution_count": 172,
   "metadata": {},
   "outputs": [],
   "source": [
    "def parse_problem(cfg):\n",
    "  expanded = [cfg[prop] for prop in cfg]\n",
    "  prop_names = [ prop for prop in cfg]\n",
    "  problems = []\n",
    "  for props in itertools.product(*expanded):\n",
    "    problems.append(dict(zip(prop_names, props)))\n",
    "  return problems"
   ]
  },
  {
   "cell_type": "code",
   "execution_count": 265,
   "metadata": {},
   "outputs": [],
   "source": [
    "def make_problem_instances(problem, working_dir, num):\n",
    "  recipe_file = '{}/recipe.json'.format(working_dir)\n",
    "  make_problem_recipe(problem, recipe_file)\n",
    "\n",
    "  make_cmd = '{} make -r {} -d {} -n {}' \\\n",
    "    .format(BSS_CMD, recipe_file, working_dir, num)\n",
    "\n",
    "  res = subprocess.call(make_cmd, shell=True)\n",
    "  if res != 0:\n",
    "    print('Error: %s' % make_cmd)\n",
    "    exit(1)\n",
    "\n",
    "\n",
    "def run_simulation(command, args, instance_file, working_dir):\n",
    "  result_file = '%s/simulation_result.json' % working_dir\n",
    "  if os.path.exists(result_file):\n",
    "    os.remove(result_file)\n",
    "\n",
    "  cmd = '%s %s %s -i %s -o %s' \\\n",
    "     % (BSS_CMD, command, args, instance_file, result_file)\n",
    "  \n",
    "  res = subprocess.call(cmd, shell=True)\n",
    "  if res != 0:\n",
    "    print('Error: %s' % cmd)\n",
    "    exit(1)\n",
    "\n",
    "  with open(result_file) as f:\n",
    "    result = json.load(f)\n",
    "    return result[-1]['laptime']\n",
    "\n",
    "\n",
    "def expr(cfg):\n",
    "  solvers = parse_solver(cfg['solver'])\n",
    "  problems = parse_problem(cfg['problem'])\n",
    "  trials = cfg['config']['trials']\n",
    "  command = solvers['cmd']\n",
    "  args_list = solvers['args']\n",
    "  working_dir = cfg['config']['working dir']\n",
    "  output_path = cfg['config']['output path']\n",
    "\n",
    "  if os.path.exists(working_dir):\n",
    "    print('Error: Specified working directory already exists: {}' \\\n",
    "      .format(working_dir))\n",
    "    return\n",
    "\n",
    "  if os.path.exists(output_path):\n",
    "    print('Error: output file already exists: {}' \\\n",
    "      .format(output_path))\n",
    "    return\n",
    "\n",
    "  datetime_start = datetime.datetime.now()\n",
    "\n",
    "  for i_pbm, problem in enumerate(problems):\n",
    "\n",
    "    # Cleanup the working directly\n",
    "    if os.path.exists(working_dir):\n",
    "      shutil.rmtree(working_dir)\n",
    "    os.mkdir(working_dir)\n",
    "\n",
    "    # Generate problem instance files\n",
    "    make_problem_instances(problem, working_dir, trials)\n",
    "\n",
    "    for trial in range(trials):\n",
    "      instance = '{}/instance-{}.json' \\\n",
    "        .format(working_dir, trial + 1)\n",
    "\n",
    "      for i_args, args in enumerate(args_list):\n",
    "        time_start = time.time()\n",
    "        uptime = run_simulation(command, args, instance, working_dir)\n",
    "        time_end = time.time()\n",
    "        elapsed_time = time_end - time_start\n",
    "\n",
    "        frame = {**args_list[args], **problem}\n",
    "        frame['trial'] = '#{}'.format(trial)\n",
    "        frame['uptime'] = uptime\n",
    "        frame['elapsed time'] = elapsed_time\n",
    "        frame = pd.DataFrame([frame.values()], columns=frame.keys())\n",
    "\n",
    "        if os.path.exists(output_path):\n",
    "          frame.to_csv(output_path, index=False, \n",
    "            encoding='utf-8', mode='a', header=False)\n",
    "        else:\n",
    "          frame.to_csv(output_path, index=False, \n",
    "            encoding='utf-8', mode='w')\n",
    "\n",
    "        print('[{}] [problem #{}/{}] [instance #{}/{}] [solver #{}/{}] [elapsed-time: {:.1f} s] [uptime: {:.2f} h] {} {}'.format(\n",
    "            datetime.datetime.now() - datetime_start, \n",
    "            i_pbm + 1, len(problems),\n",
    "            trial + 1, trials,\n",
    "            i_args + 1, len(args_list),\n",
    "            elapsed_time,\n",
    "            uptime / 3600,\n",
    "            command, args))\n"
   ]
  },
  {
   "cell_type": "code",
   "execution_count": 266,
   "metadata": {},
   "outputs": [
    {
     "name": "stdout",
     "output_type": "stream",
     "text": [
      "[0:00:00.327583] [problem #1/18] [instance #1/1] [solver #1/2] [elapsed time: 0.3 s] [uptime: 185.59 h] single-bridge -a 0.0 -r 500\n",
      "[0:00:00.691287] [problem #1/18] [instance #1/1] [solver #2/2] [elapsed time: 0.4 s] [uptime: 185.59 h] single-bridge -a 0.0 -r 1000\n",
      "[0:00:00.917823] [problem #2/18] [instance #1/1] [solver #1/2] [elapsed time: 0.2 s] [uptime: 193.25 h] single-bridge -a 0.0 -r 500\n",
      "[0:00:01.290105] [problem #2/18] [instance #1/1] [solver #2/2] [elapsed time: 0.4 s] [uptime: 184.61 h] single-bridge -a 0.0 -r 1000\n",
      "[0:00:01.627572] [problem #3/18] [instance #1/1] [solver #1/2] [elapsed time: 0.3 s] [uptime: 186.46 h] single-bridge -a 0.0 -r 500\n",
      "[0:00:01.784066] [problem #3/18] [instance #1/1] [solver #2/2] [elapsed time: 0.2 s] [uptime: 193.91 h] single-bridge -a 0.0 -r 1000\n",
      "[0:00:02.792179] [problem #4/18] [instance #1/1] [solver #1/2] [elapsed time: 1.0 s] [uptime: 200.78 h] single-bridge -a 0.0 -r 500\n",
      "[0:00:04.027836] [problem #4/18] [instance #1/1] [solver #2/2] [elapsed time: 1.2 s] [uptime: 202.50 h] single-bridge -a 0.0 -r 1000\n",
      "[0:00:04.811855] [problem #5/18] [instance #1/1] [solver #1/2] [elapsed time: 0.8 s] [uptime: 199.47 h] single-bridge -a 0.0 -r 500\n",
      "[0:00:06.226968] [problem #5/18] [instance #1/1] [solver #2/2] [elapsed time: 1.4 s] [uptime: 201.38 h] single-bridge -a 0.0 -r 1000\n",
      "[0:00:07.194462] [problem #6/18] [instance #1/1] [solver #1/2] [elapsed time: 1.0 s] [uptime: 197.24 h] single-bridge -a 0.0 -r 500\n",
      "[0:00:08.460793] [problem #6/18] [instance #1/1] [solver #2/2] [elapsed time: 1.3 s] [uptime: 200.36 h] single-bridge -a 0.0 -r 1000\n",
      "[0:00:10.481134] [problem #7/18] [instance #1/1] [solver #1/2] [elapsed time: 2.0 s] [uptime: 201.52 h] single-bridge -a 0.0 -r 500\n",
      "[0:00:12.570408] [problem #7/18] [instance #1/1] [solver #2/2] [elapsed time: 2.1 s] [uptime: 201.89 h] single-bridge -a 0.0 -r 1000\n",
      "[0:00:14.398893] [problem #8/18] [instance #1/1] [solver #1/2] [elapsed time: 1.8 s] [uptime: 204.01 h] single-bridge -a 0.0 -r 500\n",
      "[0:00:16.224107] [problem #8/18] [instance #1/1] [solver #2/2] [elapsed time: 1.8 s] [uptime: 204.01 h] single-bridge -a 0.0 -r 1000\n",
      "[0:00:17.793366] [problem #9/18] [instance #1/1] [solver #1/2] [elapsed time: 1.6 s] [uptime: 202.27 h] single-bridge -a 0.0 -r 500\n",
      "[0:00:19.865609] [problem #9/18] [instance #1/1] [solver #2/2] [elapsed time: 2.1 s] [uptime: 204.20 h] single-bridge -a 0.0 -r 1000\n",
      "[0:00:20.144350] [problem #10/18] [instance #1/1] [solver #1/2] [elapsed time: 0.3 s] [uptime: 193.08 h] single-bridge -a 0.0 -r 500\n",
      "[0:00:20.410215] [problem #10/18] [instance #1/1] [solver #2/2] [elapsed time: 0.3 s] [uptime: 195.31 h] single-bridge -a 0.0 -r 1000\n",
      "[0:00:20.655443] [problem #11/18] [instance #1/1] [solver #1/2] [elapsed time: 0.2 s] [uptime: 190.88 h] single-bridge -a 0.0 -r 500\n",
      "[0:00:20.899810] [problem #11/18] [instance #1/1] [solver #2/2] [elapsed time: 0.2 s] [uptime: 190.88 h] single-bridge -a 0.0 -r 1000\n",
      "[0:00:21.162755] [problem #12/18] [instance #1/1] [solver #1/2] [elapsed time: 0.3 s] [uptime: 192.19 h] single-bridge -a 0.0 -r 500\n",
      "[0:00:21.386793] [problem #12/18] [instance #1/1] [solver #2/2] [elapsed time: 0.2 s] [uptime: 193.92 h] single-bridge -a 0.0 -r 1000\n",
      "[0:00:22.235696] [problem #13/18] [instance #1/1] [solver #1/2] [elapsed time: 0.8 s] [uptime: 200.93 h] single-bridge -a 0.0 -r 500\n",
      "[0:00:23.077599] [problem #13/18] [instance #1/1] [solver #2/2] [elapsed time: 0.8 s] [uptime: 200.93 h] single-bridge -a 0.0 -r 1000\n",
      "[0:00:23.861927] [problem #14/18] [instance #1/1] [solver #1/2] [elapsed time: 0.8 s] [uptime: 200.83 h] single-bridge -a 0.0 -r 500\n",
      "[0:00:24.583221] [problem #14/18] [instance #1/1] [solver #2/2] [elapsed time: 0.7 s] [uptime: 200.78 h] single-bridge -a 0.0 -r 1000\n",
      "[0:00:25.145805] [problem #15/18] [instance #1/1] [solver #1/2] [elapsed time: 0.6 s] [uptime: 200.71 h] single-bridge -a 0.0 -r 500\n",
      "[0:00:26.145529] [problem #15/18] [instance #1/1] [solver #2/2] [elapsed time: 1.0 s] [uptime: 203.59 h] single-bridge -a 0.0 -r 1000\n",
      "[0:00:27.453869] [problem #16/18] [instance #1/1] [solver #1/2] [elapsed time: 1.3 s] [uptime: 203.76 h] single-bridge -a 0.0 -r 500\n",
      "[0:00:29.088255] [problem #16/18] [instance #1/1] [solver #2/2] [elapsed time: 1.6 s] [uptime: 202.83 h] single-bridge -a 0.0 -r 1000\n",
      "[0:00:30.786730] [problem #17/18] [instance #1/1] [solver #1/2] [elapsed time: 1.7 s] [uptime: 201.38 h] single-bridge -a 0.0 -r 500\n",
      "[0:00:32.473233] [problem #17/18] [instance #1/1] [solver #2/2] [elapsed time: 1.7 s] [uptime: 201.38 h] single-bridge -a 0.0 -r 1000\n",
      "[0:00:33.923529] [problem #18/18] [instance #1/1] [solver #1/2] [elapsed time: 1.4 s] [uptime: 200.92 h] single-bridge -a 0.0 -r 500\n",
      "[0:00:36.175935] [problem #18/18] [instance #1/1] [solver #2/2] [elapsed time: 2.3 s] [uptime: 202.18 h] single-bridge -a 0.0 -r 1000\n"
     ]
    }
   ],
   "source": [
    "with open('./cfg.json') as f:\n",
    "  cfg = json.load(f)\n",
    "expr(cfg)"
   ]
  },
  {
   "cell_type": "code",
   "execution_count": 258,
   "metadata": {},
   "outputs": [],
   "source": [
    "a = datetime.datetime.now()"
   ]
  },
  {
   "cell_type": "code",
   "execution_count": 259,
   "metadata": {},
   "outputs": [],
   "source": [
    "b = datetime.datetime.now()"
   ]
  },
  {
   "cell_type": "code",
   "execution_count": 260,
   "metadata": {},
   "outputs": [
    {
     "name": "stdout",
     "output_type": "stream",
     "text": [
      "2021-12-25 21:49:08.845100 2021-12-25 21:49:15.080556\n"
     ]
    }
   ],
   "source": [
    "print(a, b)"
   ]
  },
  {
   "cell_type": "code",
   "execution_count": 264,
   "metadata": {},
   "outputs": [
    {
     "data": {
      "text/plain": [
       "'0:00:06.235456'"
      ]
     },
     "execution_count": 264,
     "metadata": {},
     "output_type": "execute_result"
    }
   ],
   "source": [
    "str((b - a))"
   ]
  },
  {
   "cell_type": "code",
   "execution_count": null,
   "metadata": {},
   "outputs": [],
   "source": []
  }
 ],
 "metadata": {
  "interpreter": {
   "hash": "ca890322d7eb42fa37793b9f399d89ab3f1b68f025e05b912cec787fef241bf4"
  },
  "kernelspec": {
   "display_name": "Python 3.7.4 64-bit ('miniconda3-4.7.12': pyenv)",
   "language": "python",
   "name": "python3"
  },
  "language_info": {
   "codemirror_mode": {
    "name": "ipython",
    "version": 3
   },
   "file_extension": ".py",
   "mimetype": "text/x-python",
   "name": "python",
   "nbconvert_exporter": "python",
   "pygments_lexer": "ipython3",
   "version": "3.7.4"
  },
  "orig_nbformat": 4
 },
 "nbformat": 4,
 "nbformat_minor": 2
}
